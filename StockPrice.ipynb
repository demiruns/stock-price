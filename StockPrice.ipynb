{
 "cells": [
  {
   "cell_type": "code",
   "execution_count": 15,
   "metadata": {},
   "outputs": [
    {
     "name": "stderr",
     "output_type": "stream",
     "text": [
      "[*********************100%***********************]  1 of 1 completed\n"
     ]
    }
   ],
   "source": [
    "import numpy as np\n",
    "import yfinance\n",
    "from sklearn.preprocessing import MinMaxScaler\n",
    "stocks=yfinance.download(\"AAPL\", start=\"2015-01-01\", end=\"2025-01-01\")"
   ]
  },
  {
   "cell_type": "code",
   "execution_count": 18,
   "metadata": {},
   "outputs": [
    {
     "data": {
      "text/plain": [
       "array([[0.01531497],\n",
       "       [0.01243694],\n",
       "       [0.0124463 ],\n",
       "       ...,\n",
       "       [0.98560779],\n",
       "       [0.97138334],\n",
       "       [0.9639145 ]])"
      ]
     },
     "execution_count": 18,
     "metadata": {},
     "output_type": "execute_result"
    }
   ],
   "source": [
    "stock_closed=np.array(stocks[\"Close\"])\n",
    "mms = MinMaxScaler((0, 1))\n",
    "new_stock_closed=mms.fit_transform(stock_closed)"
   ]
  },
  {
   "cell_type": "code",
   "execution_count": 26,
   "metadata": {},
   "outputs": [
    {
     "name": "stdout",
     "output_type": "stream",
     "text": [
      "[[[0.01531497]\n",
      "  [0.01243694]\n",
      "  [0.0124463 ]\n",
      "  ...\n",
      "  [0.0297054 ]\n",
      "  [0.02877666]\n",
      "  [0.03170359]]\n",
      "\n",
      " [[0.01243694]\n",
      "  [0.0124463 ]\n",
      "  [0.01383858]\n",
      "  ...\n",
      "  [0.02877666]\n",
      "  [0.03170359]\n",
      "  [0.02988364]]\n",
      "\n",
      " [[0.0124463 ]\n",
      "  [0.01383858]\n",
      "  [0.0177071 ]\n",
      "  ...\n",
      "  [0.03170359]\n",
      "  [0.02988364]\n",
      "  [0.02971477]]\n",
      "\n",
      " ...\n",
      "\n",
      " [[0.86367557]\n",
      "  [0.85902308]\n",
      "  [0.86375932]\n",
      "  ...\n",
      "  [0.98426514]\n",
      "  [0.99655943]\n",
      "  [1.        ]]\n",
      "\n",
      " [[0.85902308]\n",
      "  [0.86375932]\n",
      "  [0.84234143]\n",
      "  ...\n",
      "  [0.99655943]\n",
      "  [1.        ]\n",
      "  [0.98560779]]\n",
      "\n",
      " [[0.86375932]\n",
      "  [0.84234143]\n",
      "  [0.85944224]\n",
      "  ...\n",
      "  [1.        ]\n",
      "  [0.98560779]\n",
      "  [0.97138334]]]\n"
     ]
    }
   ],
   "source": [
    "price_days=60\n",
    "features=[]\n",
    "target=[]\n",
    "for i in range(len(new_stock_closed)-price_days):\n",
    "    features.append(new_stock_closed[i:i+price_days])\n",
    "    target.append(new_stock_closed[i+price_days])\n",
    "\n",
    "features=np.array(features)\n",
    "target=np.array(target)"
   ]
  },
  {
   "cell_type": "code",
   "execution_count": 27,
   "metadata": {},
   "outputs": [
    {
     "name": "stderr",
     "output_type": "stream",
     "text": [
      "/Library/Frameworks/Python.framework/Versions/3.11/lib/python3.11/site-packages/keras/src/layers/rnn/rnn.py:200: UserWarning: Do not pass an `input_shape`/`input_dim` argument to a layer. When using Sequential models, prefer using an `Input(shape)` object as the first layer in the model instead.\n",
      "  super().__init__(**kwargs)\n"
     ]
    }
   ],
   "source": [
    "from tensorflow.keras.models import Sequential\n",
    "from tensorflow.keras.layers import LSTM, Dropout, Dense\n",
    "\n",
    "model = Sequential([\n",
    "    LSTM(units=50, return_sequences=True, input_shape=(price_days, 1)),\n",
    "    Dropout(0.2),\n",
    "    LSTM(units=50, return_sequences=True),\n",
    "    Dropout(0.2),\n",
    "    Dense(1)\n",
    "])\n",
    "\n",
    "model.compile(optimizer=\"adam\", loss=\"mean_squared_error\")"
   ]
  },
  {
   "cell_type": "code",
   "execution_count": 35,
   "metadata": {},
   "outputs": [
    {
     "name": "stdout",
     "output_type": "stream",
     "text": [
      "Epoch 1/50\n"
     ]
    },
    {
     "ename": "ValueError",
     "evalue": "Attr 'Toutput_types' of 'OptionalFromValue' Op passed list of length 0 less than minimum 1.",
     "output_type": "error",
     "traceback": [
      "\u001b[0;31m---------------------------------------------------------------------------\u001b[0m",
      "\u001b[0;31mValueError\u001b[0m                                Traceback (most recent call last)",
      "Cell \u001b[0;32mIn[35], line 4\u001b[0m\n\u001b[1;32m      1\u001b[0m \u001b[39mfrom\u001b[39;00m \u001b[39msklearn\u001b[39;00m\u001b[39m.\u001b[39;00m\u001b[39mmodel_selection\u001b[39;00m \u001b[39mimport\u001b[39;00m train_test_split \u001b[39mas\u001b[39;00m tts\n\u001b[1;32m      2\u001b[0m train_features, test_features, train_target, test_target \u001b[39m=\u001b[39m tts(features, target, train_size\u001b[39m=\u001b[39m\u001b[39m0.8\u001b[39m, random_state\u001b[39m=\u001b[39m\u001b[39m42\u001b[39m)\n\u001b[0;32m----> 4\u001b[0m model\u001b[39m.\u001b[39;49mfit(train_features, train_target, epochs\u001b[39m=\u001b[39;49m\u001b[39m50\u001b[39;49m, batch_size\u001b[39m=\u001b[39;49m\u001b[39m32\u001b[39;49m)\n",
      "File \u001b[0;32m/Library/Frameworks/Python.framework/Versions/3.11/lib/python3.11/site-packages/keras/src/utils/traceback_utils.py:122\u001b[0m, in \u001b[0;36mfilter_traceback.<locals>.error_handler\u001b[0;34m(*args, **kwargs)\u001b[0m\n\u001b[1;32m    119\u001b[0m     filtered_tb \u001b[39m=\u001b[39m _process_traceback_frames(e\u001b[39m.\u001b[39m__traceback__)\n\u001b[1;32m    120\u001b[0m     \u001b[39m# To get the full stack trace, call:\u001b[39;00m\n\u001b[1;32m    121\u001b[0m     \u001b[39m# `keras.config.disable_traceback_filtering()`\u001b[39;00m\n\u001b[0;32m--> 122\u001b[0m     \u001b[39mraise\u001b[39;00m e\u001b[39m.\u001b[39mwith_traceback(filtered_tb) \u001b[39mfrom\u001b[39;00m \u001b[39mNone\u001b[39;00m\n\u001b[1;32m    123\u001b[0m \u001b[39mfinally\u001b[39;00m:\n\u001b[1;32m    124\u001b[0m     \u001b[39mdel\u001b[39;00m filtered_tb\n",
      "File \u001b[0;32m/Library/Frameworks/Python.framework/Versions/3.11/lib/python3.11/site-packages/keras/src/backend/tensorflow/trainer.py:128\u001b[0m, in \u001b[0;36mTensorFlowTrainer._make_function.<locals>.multi_step_on_iterator\u001b[0;34m(iterator)\u001b[0m\n\u001b[1;32m    125\u001b[0m \u001b[39m@tf\u001b[39m\u001b[39m.\u001b[39mautograph\u001b[39m.\u001b[39mexperimental\u001b[39m.\u001b[39mdo_not_convert\n\u001b[1;32m    126\u001b[0m \u001b[39mdef\u001b[39;00m \u001b[39mmulti_step_on_iterator\u001b[39m(iterator):\n\u001b[1;32m    127\u001b[0m     \u001b[39mif\u001b[39;00m \u001b[39mself\u001b[39m\u001b[39m.\u001b[39msteps_per_execution \u001b[39m==\u001b[39m \u001b[39m1\u001b[39m:\n\u001b[0;32m--> 128\u001b[0m         \u001b[39mreturn\u001b[39;00m tf\u001b[39m.\u001b[39;49mexperimental\u001b[39m.\u001b[39;49mOptional\u001b[39m.\u001b[39;49mfrom_value(\n\u001b[1;32m    129\u001b[0m             one_step_on_data(iterator\u001b[39m.\u001b[39;49mget_next())\n\u001b[1;32m    130\u001b[0m         )\n\u001b[1;32m    132\u001b[0m     \u001b[39m# the spec is set lazily during the tracing of `tf.while_loop`\u001b[39;00m\n\u001b[1;32m    133\u001b[0m     empty_outputs \u001b[39m=\u001b[39m tf\u001b[39m.\u001b[39mexperimental\u001b[39m.\u001b[39mOptional\u001b[39m.\u001b[39mempty(\u001b[39mNone\u001b[39;00m)\n",
      "\u001b[0;31mValueError\u001b[0m: Attr 'Toutput_types' of 'OptionalFromValue' Op passed list of length 0 less than minimum 1."
     ]
    }
   ],
   "source": [
    "from sklearn.model_selection import train_test_split as tts\n",
    "train_features, test_features, train_target, test_target = tts(features, target, train_size=0.8, random_state=42)\n",
    "\n",
    "model.fit(train_features, train_target, epochs=50, batch_size=32)"
   ]
  }
 ],
 "metadata": {
  "kernelspec": {
   "display_name": "Python 3",
   "language": "python",
   "name": "python3"
  },
  "language_info": {
   "codemirror_mode": {
    "name": "ipython",
    "version": 3
   },
   "file_extension": ".py",
   "mimetype": "text/x-python",
   "name": "python",
   "nbconvert_exporter": "python",
   "pygments_lexer": "ipython3",
   "version": "3.11.4"
  },
  "orig_nbformat": 4
 },
 "nbformat": 4,
 "nbformat_minor": 2
}
